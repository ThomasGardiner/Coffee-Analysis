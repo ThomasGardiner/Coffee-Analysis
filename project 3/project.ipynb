{
 "cells": [
  {
   "cell_type": "code",
   "execution_count": 11,
   "id": "260f1b6c",
   "metadata": {},
   "outputs": [],
   "source": [
    "import pandas as pd\n",
    "from sqlalchemy import create_engine, text"
   ]
  },
  {
   "cell_type": "code",
   "execution_count": 12,
   "id": "2956d02e",
   "metadata": {},
   "outputs": [],
   "source": [
    "domesticdf = pd.read_csv(\"./domestic.csv\")\n",
    "exportsdf = pd.read_csv(\"./exports.csv\")"
   ]
  },
  {
   "cell_type": "code",
   "execution_count": 13,
   "id": "b1646bb3",
   "metadata": {},
   "outputs": [
    {
     "data": {
      "text/html": [
       "<div>\n",
       "<style scoped>\n",
       "    .dataframe tbody tr th:only-of-type {\n",
       "        vertical-align: middle;\n",
       "    }\n",
       "\n",
       "    .dataframe tbody tr th {\n",
       "        vertical-align: top;\n",
       "    }\n",
       "\n",
       "    .dataframe thead th {\n",
       "        text-align: right;\n",
       "    }\n",
       "</style>\n",
       "<table border=\"1\" class=\"dataframe\">\n",
       "  <thead>\n",
       "    <tr style=\"text-align: right;\">\n",
       "      <th></th>\n",
       "      <th>Country</th>\n",
       "      <th>Year</th>\n",
       "      <th>Amount</th>\n",
       "    </tr>\n",
       "  </thead>\n",
       "  <tbody>\n",
       "    <tr>\n",
       "      <th>0</th>\n",
       "      <td>Angola</td>\n",
       "      <td>1990</td>\n",
       "      <td>5040000</td>\n",
       "    </tr>\n",
       "    <tr>\n",
       "      <th>1</th>\n",
       "      <td>Bolivia (Plurinational State of)</td>\n",
       "      <td>1990</td>\n",
       "      <td>9360000</td>\n",
       "    </tr>\n",
       "    <tr>\n",
       "      <th>2</th>\n",
       "      <td>Brazil</td>\n",
       "      <td>1990</td>\n",
       "      <td>1016160000</td>\n",
       "    </tr>\n",
       "    <tr>\n",
       "      <th>3</th>\n",
       "      <td>Burundi</td>\n",
       "      <td>1990</td>\n",
       "      <td>35100000</td>\n",
       "    </tr>\n",
       "    <tr>\n",
       "      <th>4</th>\n",
       "      <td>Cameroon</td>\n",
       "      <td>1990</td>\n",
       "      <td>156660000</td>\n",
       "    </tr>\n",
       "    <tr>\n",
       "      <th>...</th>\n",
       "      <td>...</td>\n",
       "      <td>...</td>\n",
       "      <td>...</td>\n",
       "    </tr>\n",
       "    <tr>\n",
       "      <th>1645</th>\n",
       "      <td>Venezuela</td>\n",
       "      <td>2019</td>\n",
       "      <td>3180000</td>\n",
       "    </tr>\n",
       "    <tr>\n",
       "      <th>1646</th>\n",
       "      <td>Viet Nam</td>\n",
       "      <td>2019</td>\n",
       "      <td>1644000000</td>\n",
       "    </tr>\n",
       "    <tr>\n",
       "      <th>1647</th>\n",
       "      <td>Yemen</td>\n",
       "      <td>2019</td>\n",
       "      <td>720000</td>\n",
       "    </tr>\n",
       "    <tr>\n",
       "      <th>1648</th>\n",
       "      <td>Zambia</td>\n",
       "      <td>2019</td>\n",
       "      <td>1620000</td>\n",
       "    </tr>\n",
       "    <tr>\n",
       "      <th>1649</th>\n",
       "      <td>Zimbabwe</td>\n",
       "      <td>2019</td>\n",
       "      <td>360000</td>\n",
       "    </tr>\n",
       "  </tbody>\n",
       "</table>\n",
       "<p>1650 rows × 3 columns</p>\n",
       "</div>"
      ],
      "text/plain": [
       "                               Country  Year      Amount\n",
       "0                               Angola  1990     5040000\n",
       "1     Bolivia (Plurinational State of)  1990     9360000\n",
       "2                               Brazil  1990  1016160000\n",
       "3                              Burundi  1990    35100000\n",
       "4                             Cameroon  1990   156660000\n",
       "...                                ...   ...         ...\n",
       "1645                         Venezuela  2019     3180000\n",
       "1646                          Viet Nam  2019  1644000000\n",
       "1647                             Yemen  2019      720000\n",
       "1648                            Zambia  2019     1620000\n",
       "1649                          Zimbabwe  2019      360000\n",
       "\n",
       "[1650 rows x 3 columns]"
      ]
     },
     "execution_count": 13,
     "metadata": {},
     "output_type": "execute_result"
    }
   ],
   "source": [
    "domesticdfmelt = pd.melt(domesticdf, id_vars=['_id', 'Country', 'Coffee type', 'Total_domestic_consumption'], var_name='Season', value_name='Amount')\n",
    "domesticdfclean = domesticdfmelt.drop(columns=['Total_domestic_consumption', '_id'])\n",
    "domesticdfclean\n",
    "\n",
    "exportsdfmelt = pd.melt(exportsdf, id_vars=['_id', 'Country', 'Total_export'], var_name='Year', value_name='Amount')\n",
    "exportsdfclean = exportsdfmelt.drop(columns=['Total_export', '_id'])\n",
    "exportsdfclean\n"
   ]
  },
  {
   "cell_type": "code",
   "execution_count": 14,
   "id": "9f60b184",
   "metadata": {},
   "outputs": [],
   "source": [
    "query = text(\"CREATE TABLE domestic(country STR, coffee_type STR, season STR, amount DEC)\")\n"
   ]
  },
  {
   "cell_type": "code",
   "execution_count": 15,
   "id": "fbc583eb",
   "metadata": {},
   "outputs": [
    {
     "name": "stdout",
     "output_type": "stream",
     "text": [
      "Requirement already satisfied: psycopg2 in c:\\users\\tom77\\anaconda3\\lib\\site-packages (2.9.9)\n"
     ]
    }
   ],
   "source": [
    "!pip install psycopg2"
   ]
  },
  {
   "cell_type": "code",
   "execution_count": 16,
   "id": "f49c5597",
   "metadata": {},
   "outputs": [],
   "source": [
    "from sqlalchemy import create_engine\n",
    "from config import username, password, hostname, port, db\n",
    "engine = create_engine(f\"postgresql+psycopg2://{username}:{password}@{hostname}:{port}/{db}\")"
   ]
  },
  {
   "cell_type": "code",
   "execution_count": 17,
   "id": "9d8e2b8d",
   "metadata": {},
   "outputs": [],
   "source": [
    "domesticdfclean = domesticdfclean.rename(\n",
    "    columns={\n",
    "        \"Amount\": \"amount\",\n",
    "        \"Season\": \"season\",\n",
    "        \"Country\": \"country\",\n",
    "        \"Coffee type\": \"coffee_type\"\n",
    "        })\n",
    "\n",
    "exportsdfclean = exportsdfclean.rename(\n",
    "    columns={\n",
    "        \"Amount\": \"amount\",\n",
    "        \"Year\": \"year\",\n",
    "        \"Country\": \"country\",\n",
    "        })\n"
   ]
  },
  {
   "cell_type": "code",
   "execution_count": 18,
   "id": "bd4992d1",
   "metadata": {},
   "outputs": [
    {
     "data": {
      "text/plain": [
       "650"
      ]
     },
     "execution_count": 18,
     "metadata": {},
     "output_type": "execute_result"
    }
   ],
   "source": [
    "domesticdfclean.to_sql(\"domesticdfclean\", con=engine, if_exists=\"replace\", index=False)\n",
    "\n",
    "exportsdfclean.to_sql(\"exportsdfclean\", con=engine, if_exists=\"replace\", index=False)\n",
    "\n",
    "\n"
   ]
  },
  {
   "cell_type": "code",
   "execution_count": null,
   "id": "305327fe",
   "metadata": {},
   "outputs": [],
   "source": []
  }
 ],
 "metadata": {
  "kernelspec": {
   "display_name": "Python 3 (ipykernel)",
   "language": "python",
   "name": "python3"
  },
  "language_info": {
   "codemirror_mode": {
    "name": "ipython",
    "version": 3
   },
   "file_extension": ".py",
   "mimetype": "text/x-python",
   "name": "python",
   "nbconvert_exporter": "python",
   "pygments_lexer": "ipython3",
   "version": "3.11.4"
  }
 },
 "nbformat": 4,
 "nbformat_minor": 5
}
